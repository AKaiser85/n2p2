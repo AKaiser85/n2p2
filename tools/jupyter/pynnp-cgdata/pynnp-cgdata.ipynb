{
 "cells": [
  {
   "cell_type": "code",
   "execution_count": 1,
   "metadata": {},
   "outputs": [],
   "source": [
    "# To capture the NNP library stdout output we have two possible options:\n",
    "#\n",
    "# 1.) Install \"wurlitzer\" available via pip or github.com/minrk/wurlitzer\n",
    "#     > pip install wurlitzer\n",
    "#     and load as extension\n",
    "#     > %load_ext wurlitzer\n",
    "#\n",
    "# 2.) Silence the library output (which will otherwise go to Jupyter server shell)\n",
    "#     > nnp = pynnp.Mode()\n",
    "#     > nnp.log.writeToStdout = False\n",
    "#     > ... do initialization ...\n",
    "#     and recall the log later:\n",
    "#     > for line in nnp.log.getLog():\n",
    "#     >     sys.stdout.write(line)\n",
    "#\n",
    "# Option 1.) is obviously more comfortable and will also capture output to stderr.\n",
    "%load_ext wurlitzer\n",
    "import pynnp\n",
    "from sys import stdout as so\n",
    "import numpy as np"
   ]
  },
  {
   "cell_type": "code",
   "execution_count": 2,
   "metadata": {},
   "outputs": [],
   "source": [
    "cutoff_nl = 3.0\n",
    "cutoff_HO = 2.2\n",
    "mass_H = 1.00784\n",
    "mass_O = 15.99903\n",
    "mass_CG = mass_O + 2 * mass_H"
   ]
  },
  {
   "cell_type": "code",
   "execution_count": 3,
   "metadata": {},
   "outputs": [
    {
     "name": "stdout",
     "output_type": "stream",
     "text": [
      "CPU times: user 6.45 s, sys: 17.2 ms, total: 6.47 s\n",
      "Wall time: 6.44 s\n"
     ]
    }
   ],
   "source": [
    "%%time\n",
    "structures = []\n",
    "for s in pynnp.DatasetReader(\"/bdata/projects/cgnnp/02_analyze-descriptors/cg-h2o-com/atomistic-description/input.data\", \"H O\"):\n",
    "    s.calculateNeighborList(cutoff_nl)\n",
    "    break"
   ]
  },
  {
   "cell_type": "code",
   "execution_count": 4,
   "metadata": {},
   "outputs": [],
   "source": [
    "a = s.atoms[0]"
   ]
  },
  {
   "cell_type": "code",
   "execution_count": 7,
   "metadata": {},
   "outputs": [],
   "source": [
    "a.index = False"
   ]
  },
  {
   "cell_type": "code",
   "execution_count": 10,
   "metadata": {},
   "outputs": [
    {
     "data": {
      "text/plain": [
       "True"
      ]
     },
     "execution_count": 10,
     "metadata": {},
     "output_type": "execute_result"
    }
   ],
   "source": [
    "a.hasSymmetryFunctions"
   ]
  },
  {
   "cell_type": "code",
   "execution_count": 6,
   "metadata": {},
   "outputs": [
    {
     "name": "stdout",
     "output_type": "stream",
     "text": [
      "x: 39.551165 y: 41.460701 z: 139.067578\n"
     ]
    }
   ],
   "source": [
    "ra = s.atoms[0].r\n",
    "print(s.atoms[0].r)"
   ]
  },
  {
   "cell_type": "code",
   "execution_count": 6,
   "metadata": {},
   "outputs": [
    {
     "name": "stdout",
     "output_type": "stream",
     "text": [
      "<pynnp.Atom object at 0x7f4ffe3a77c8>\n"
     ]
    }
   ],
   "source": [
    "a = s.atoms[0]\n",
    "print(a)"
   ]
  },
  {
   "cell_type": "code",
   "execution_count": 12,
   "metadata": {},
   "outputs": [
    {
     "name": "stdout",
     "output_type": "stream",
     "text": [
      "x: 4.000000 y: 5.000000 z: 6.000000\n"
     ]
    }
   ],
   "source": [
    "print(a.neighbors[0].dr)"
   ]
  },
  {
   "cell_type": "code",
   "execution_count": 25,
   "metadata": {},
   "outputs": [],
   "source": [
    "dr = a.neighbors[0].dr"
   ]
  },
  {
   "cell_type": "code",
   "execution_count": 4,
   "metadata": {},
   "outputs": [],
   "source": [
    "v = pynnp.Vec3D(1, 2, 3)"
   ]
  },
  {
   "cell_type": "code",
   "execution_count": 11,
   "metadata": {},
   "outputs": [],
   "source": [
    "s.atoms[0].neighbors[0].dr = pynnp.Vec3D(4, 5, 6)"
   ]
  },
  {
   "cell_type": "code",
   "execution_count": 9,
   "metadata": {},
   "outputs": [],
   "source": [
    "n = a.neighbors[0]"
   ]
  },
  {
   "cell_type": "code",
   "execution_count": 10,
   "metadata": {},
   "outputs": [
    {
     "data": {
      "text/plain": [
       "[]"
      ]
     },
     "execution_count": 10,
     "metadata": {},
     "output_type": "execute_result"
    }
   ],
   "source": [
    "n.dGdr"
   ]
  },
  {
   "cell_type": "code",
   "execution_count": 34,
   "metadata": {},
   "outputs": [
    {
     "ename": "AttributeError",
     "evalue": "attribute 'dr' of 'pynnp.Neighbor' objects is not writable",
     "output_type": "error",
     "traceback": [
      "\u001b[0;31m---------------------------------------------------------------------------\u001b[0m",
      "\u001b[0;31mAttributeError\u001b[0m                            Traceback (most recent call last)",
      "\u001b[0;32m<ipython-input-34-e3e78f645870>\u001b[0m in \u001b[0;36m<module>\u001b[0;34m\u001b[0m\n\u001b[0;32m----> 1\u001b[0;31m \u001b[0mn\u001b[0m\u001b[0;34m.\u001b[0m\u001b[0mdr\u001b[0m \u001b[0;34m=\u001b[0m \u001b[0mv\u001b[0m\u001b[0;34m\u001b[0m\u001b[0;34m\u001b[0m\u001b[0m\n\u001b[0m",
      "\u001b[0;31mAttributeError\u001b[0m: attribute 'dr' of 'pynnp.Neighbor' objects is not writable"
     ]
    }
   ],
   "source": [
    "n.dr = v"
   ]
  },
  {
   "cell_type": "code",
   "execution_count": 28,
   "metadata": {},
   "outputs": [],
   "source": [
    "dr = v"
   ]
  },
  {
   "cell_type": "code",
   "execution_count": 5,
   "metadata": {},
   "outputs": [
    {
     "data": {
      "text/plain": [
       "[1.0, 2.0, 3.0]"
      ]
     },
     "execution_count": 5,
     "metadata": {},
     "output_type": "execute_result"
    }
   ],
   "source": [
    "s.atoms[0].r = pynnp.Vec3D(1, 2, 3)\n",
    "s.atoms[0].r.r"
   ]
  },
  {
   "cell_type": "code",
   "execution_count": 6,
   "metadata": {},
   "outputs": [
    {
     "data": {
      "text/plain": [
       "<pynnp.Vec3D at 0x7f53c88fa408>"
      ]
     },
     "execution_count": 6,
     "metadata": {},
     "output_type": "execute_result"
    }
   ],
   "source": [
    "r1 = pynnp.Vec3D(1, 2, 3)\n",
    "r1"
   ]
  },
  {
   "cell_type": "code",
   "execution_count": 7,
   "metadata": {},
   "outputs": [],
   "source": [
    "a.r = r1"
   ]
  },
  {
   "cell_type": "code",
   "execution_count": 8,
   "metadata": {},
   "outputs": [
    {
     "data": {
      "text/plain": [
       "[1.0, 2.0, 3.0]"
      ]
     },
     "execution_count": 8,
     "metadata": {},
     "output_type": "execute_result"
    }
   ],
   "source": [
    "a.r"
   ]
  },
  {
   "cell_type": "code",
   "execution_count": 9,
   "metadata": {},
   "outputs": [],
   "source": [
    "r2 = a.r"
   ]
  },
  {
   "cell_type": "code",
   "execution_count": 13,
   "metadata": {},
   "outputs": [],
   "source": [
    "b = pynnp.Vec3D(True)"
   ]
  },
  {
   "cell_type": "code",
   "execution_count": null,
   "metadata": {},
   "outputs": [],
   "source": [
    "b.r"
   ]
  },
  {
   "cell_type": "code",
   "execution_count": 6,
   "metadata": {},
   "outputs": [
    {
     "name": "stdout",
     "output_type": "stream",
     "text": [
      "2304\n"
     ]
    }
   ],
   "source": [
    "oxygens = []\n",
    "for atom in s.atoms:\n",
    "    if s.elementMap[atom.element] == \"O\":\n",
    "        oxygens.append(atom.index)\n",
    "    # Set hydrogen tag to zero for later check.\n",
    "    atom.tag = 0\n",
    "print(len(oxygens))"
   ]
  },
  {
   "cell_type": "markdown",
   "metadata": {},
   "source": [
    "Center-of-mass coordinates:\n",
    "\n",
    "$$\\vec{R}_i = \\frac{\\sum_j m_j \\vec{r}_j}{\\sum_j m_j} = \\frac{\\sum_j m_j \\vec{r}_j}{M}$$\n",
    "\n",
    "Consider only a single water molecule\n",
    "\n",
    "$$\\vec{R} = \\frac{m_O \\vec{r}_O + m_H \\left( \\vec{r}_{H_1} + \\vec{r}_{H_2} \\right)}{m_O + 2 m_H}$$\n",
    "\n",
    "Use $\\Delta \\vec{r}_{jk} = \\vec{r}_j - \\vec{r}_k$\n",
    "\n",
    "$$\\Delta \\vec{r}_{OH_i} = \\vec{r}_{O} - \\vec{r}_{H_i} \\Rightarrow \\vec{r}_{H_i} = \\vec{r}_{O} - \\Delta \\vec{r}_{OH_i}$$\n",
    "\n",
    "gives\n",
    "\n",
    "$$\n",
    "\\begin{align}\n",
    "\\vec{R} & = \\frac{m_O \\vec{r}_O + m_H \\left(\\vec{r}_{O} - \\Delta \\vec{r}_{OH_1} + \\vec{r}_{O} - \\Delta \\vec{r}_{OH_2} \\right)}{m_O + 2 m_H} \\\\\n",
    "& = \\frac{m_O \\vec{r}_O + 2 m_H \\vec{r}_{O} - 2 m_H \\left(\\Delta \\vec{r}_{OH_1} + \\Delta \\vec{r}_{OH_2} \\right)}{m_O + 2 m_H} \\\\\n",
    "& = \\vec{r}_O - \\frac{2 m_H \\left(\\Delta \\vec{r}_{OH_1} + \\Delta \\vec{r}_{OH_2} \\right)}{m_O + 2 m_H}\n",
    "\\end{align}\n",
    "$$\n",
    "\n",
    "Center-of-mass force:\n",
    "\n",
    "$$\\vec{F}_i = M \\sum_j m_j \\vec{r}_j = \\sum \\vec{f}_j$$"
   ]
  },
  {
   "cell_type": "code",
   "execution_count": null,
   "metadata": {},
   "outputs": [],
   "source": [
    "%load_ext line_profiler"
   ]
  },
  {
   "cell_type": "raw",
   "metadata": {},
   "source": [
    "%load_ext cython"
   ]
  },
  {
   "cell_type": "code",
   "execution_count": null,
   "metadata": {},
   "outputs": [],
   "source": [
    "def create_cg_structure():\n",
    "    s_cg = pynnp.Structure()\n",
    "    em_cg = pynnp.ElementMap()\n",
    "    em_cg.registerElements(\"Cm\")\n",
    "    s_cg.setElementMap(em_cg)\n",
    "\n",
    "    atoms = s.atoms\n",
    "    for o in oxygens:\n",
    "        nl = [n for n in atoms[o].neighbors]\n",
    "        nl.sort()\n",
    "        n_H = [n for n in nl if n.d < cutoff_HO and s.elementMap[n.element] == \"H\"]\n",
    "        if len(n_H) != 2:\n",
    "            raise RuntimeError(\"ERROR: Could not find two hydrogen neighbors!\")\n",
    "        atom_cg = pynnp.Atom()\n",
    "        atom_cg.r.r = atoms[o].r - 2 * mass_H * (n_H[0].dr + n_H[1].dr) / mass_CG\n",
    "        atom_cg.fRef.r = atoms[o].fRef + atoms[n_H[0].index].fRef + atoms[n_H[1].index].fRef\n",
    "        s_cg.addAtom(atom_cg, \"Cm\")\n",
    "    return s_cg"
   ]
  },
  {
   "cell_type": "code",
   "execution_count": null,
   "metadata": {},
   "outputs": [],
   "source": [
    "%time s_cg = create_cg_structure()"
   ]
  },
  {
   "cell_type": "raw",
   "metadata": {},
   "source": [
    "%lprun -f create_cg_structure create_cg_structure()"
   ]
  },
  {
   "cell_type": "code",
   "execution_count": null,
   "metadata": {},
   "outputs": [],
   "source": [
    "atoms = s_cg.atoms"
   ]
  },
  {
   "cell_type": "code",
   "execution_count": null,
   "metadata": {},
   "outputs": [],
   "source": [
    "a0 = atoms[0]\n",
    "a1 = atoms[1]\n",
    "a2 = atoms[2]"
   ]
  },
  {
   "cell_type": "code",
   "execution_count": null,
   "metadata": {},
   "outputs": [],
   "source": [
    "print(a2.r)\n",
    "print(a2.r.__repr__())"
   ]
  },
  {
   "cell_type": "code",
   "execution_count": null,
   "metadata": {},
   "outputs": [],
   "source": [
    "d = a2.r"
   ]
  },
  {
   "cell_type": "code",
   "execution_count": null,
   "metadata": {},
   "outputs": [],
   "source": [
    "d[0] = -2"
   ]
  },
  {
   "cell_type": "code",
   "execution_count": null,
   "metadata": {},
   "outputs": [],
   "source": [
    "print(a2.r)\n",
    "print(a2.r.__repr__())"
   ]
  },
  {
   "cell_type": "code",
   "execution_count": null,
   "metadata": {},
   "outputs": [],
   "source": [
    "b = a0.r + a1.r"
   ]
  },
  {
   "cell_type": "code",
   "execution_count": null,
   "metadata": {},
   "outputs": [],
   "source": [
    "b"
   ]
  },
  {
   "cell_type": "code",
   "execution_count": null,
   "metadata": {},
   "outputs": [],
   "source": [
    "c = pynnp.Vec3D(b)"
   ]
  },
  {
   "cell_type": "code",
   "execution_count": null,
   "metadata": {},
   "outputs": [],
   "source": [
    "c.r"
   ]
  },
  {
   "cell_type": "code",
   "execution_count": null,
   "metadata": {},
   "outputs": [],
   "source": [
    "print(a2.r)\n",
    "print(a2.r.__repr__())"
   ]
  },
  {
   "cell_type": "code",
   "execution_count": null,
   "metadata": {},
   "outputs": [],
   "source": [
    "print(b)\n",
    "print(b.__repr__())"
   ]
  },
  {
   "cell_type": "code",
   "execution_count": null,
   "metadata": {},
   "outputs": [],
   "source": [
    "print(c)\n",
    "print(c.__repr__())"
   ]
  },
  {
   "cell_type": "code",
   "execution_count": null,
   "metadata": {},
   "outputs": [],
   "source": [
    "c = b\n",
    "c[0] = -3"
   ]
  },
  {
   "cell_type": "code",
   "execution_count": null,
   "metadata": {},
   "outputs": [],
   "source": [
    "print(c)\n",
    "print(c.__repr__())"
   ]
  },
  {
   "cell_type": "code",
   "execution_count": null,
   "metadata": {},
   "outputs": [],
   "source": [
    "print(b)\n",
    "print(b.__repr__())"
   ]
  },
  {
   "cell_type": "code",
   "execution_count": null,
   "metadata": {},
   "outputs": [],
   "source": [
    "a2.info()"
   ]
  },
  {
   "cell_type": "code",
   "execution_count": null,
   "metadata": {},
   "outputs": [],
   "source": []
  }
 ],
 "metadata": {
  "anaconda-cloud": {},
  "kernelspec": {
   "display_name": "Python 3",
   "language": "python",
   "name": "python3"
  },
  "language_info": {
   "codemirror_mode": {
    "name": "ipython",
    "version": 3
   },
   "file_extension": ".py",
   "mimetype": "text/x-python",
   "name": "python",
   "nbconvert_exporter": "python",
   "pygments_lexer": "ipython3",
   "version": "3.6.8"
  }
 },
 "nbformat": 4,
 "nbformat_minor": 2
}
